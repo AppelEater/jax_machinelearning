{
 "cells": [
  {
   "cell_type": "code",
   "execution_count": 6,
   "metadata": {},
   "outputs": [],
   "source": [
    "import glob\n",
    "import pickle as pkl\n",
    "import matplotlib.pyplot as plt\n",
    "import numpy as np\n",
    "import jax.numpy as jnp\n",
    "from LRUandJaxLIB import *\n",
    "\n",
    "gloober = glob.glob(\"grid_search18/*\")"
   ]
  },
  {
   "cell_type": "code",
   "execution_count": 7,
   "metadata": {},
   "outputs": [
    {
     "ename": "",
     "evalue": "",
     "output_type": "error",
     "traceback": [
      "\u001b[1;31mThe Kernel crashed while executing code in the current cell or a previous cell. \n",
      "\u001b[1;31mPlease review the code in the cell(s) to identify a possible cause of the failure. \n",
      "\u001b[1;31mClick <a href='https://aka.ms/vscodeJupyterKernelCrash'>here</a> for more info. \n",
      "\u001b[1;31mView Jupyter <a href='command:jupyter.viewOutput'>log</a> for further details."
     ]
    }
   ],
   "source": [
    "test_file_path = \"/root/Project/jax_machinelearning/datasets/8mfsk/absolute_doppler_waveforms_CNO_[14.2],[5]_and0_samprate_2000_1736425291.1487653.pkl\"\n",
    "\n",
    "for idx, glib in enumerate(gloober):\n",
    "    with open(glib, \"rb\") as f:\n",
    "        model_parameters = pkl.load(f)[\"Model Parameters\"][-1]\n",
    "\n",
    "\n",
    "   \n",
    "    batch_size = 10\n",
    "\n",
    "    train_sequences, train_labels, _, __ = load_data(test_file_path, batch_size, 9, 1)\n",
    "\n",
    "    # Confusion matrix\n",
    "    Confusion_count = np.zeros([9,9])\n",
    "\n",
    "    Confusion_count\n",
    "\n",
    "    for x, y in zip(train_sequences, train_labels):\n",
    "        infer = np.argmax(batch_model_forward3(x, model_parameters, 0, jax.random.key(1), True),axis=1)\n",
    "        truth = np.argmax(y, axis=1)\n",
    "        for k,z in zip(truth, infer):\n",
    "            Confusion_count[k,z] += 1\n",
    "\n",
    "    for x, y in zip(_, __):\n",
    "        infer = np.argmax(batch_model_forward3(x, model_parameters, 0, jax.random.key(1), True),axis=1)\n",
    "        truth = np.argmax(y, axis=1)\n",
    "        for k,z in zip(truth, infer):\n",
    "            Confusion_count[k,z] += 1\n",
    "\n",
    "    Confusion_matrix = np.zeros([9,9])\n",
    "    for idx, con in enumerate(Confusion_count):\n",
    "        sum = np.sum(con)\n",
    "        Confusion_matrix[idx] = con/sum\n",
    "\n",
    "\n",
    "    fig, ax = plt.subplots(figsize = (3,3))\n",
    "\n",
    "    im = ax.imshow(Confusion_matrix, interpolation='nearest', cmap=plt.cm.Blues)\n",
    "    ax.figure.colorbar(im, ax=ax)\n",
    "\n",
    "    ax.set(xticks=np.arange(Confusion_matrix.shape[0]),\n",
    "        yticks=np.arange(Confusion_matrix.shape[1]),\n",
    "        xlabel = 'Predicted Label',\n",
    "            ylabel = 'True Label',\n",
    "            title = 'Confusion Matrix' )\n",
    "\n",
    "    plt.tight_layout()\n",
    "    plt.savefig(f\"/root/Project/jax_machinelearning/grid_search19/visual/confusion{idx}.pdf\")\n",
    "    #plt.show()\n",
    "\n",
    "    np.trace(Confusion_matrix)/np.sum(Confusion_matrix)"
   ]
  },
  {
   "cell_type": "code",
   "execution_count": null,
   "metadata": {},
   "outputs": [],
   "source": []
  }
 ],
 "metadata": {
  "kernelspec": {
   "display_name": "usr",
   "language": "python",
   "name": "python3"
  },
  "language_info": {
   "codemirror_mode": {
    "name": "ipython",
    "version": 3
   },
   "file_extension": ".py",
   "mimetype": "text/x-python",
   "name": "python",
   "nbconvert_exporter": "python",
   "pygments_lexer": "ipython3",
   "version": "3.10.16"
  }
 },
 "nbformat": 4,
 "nbformat_minor": 2
}
