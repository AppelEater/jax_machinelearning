{
 "cells": [
  {
   "cell_type": "code",
   "execution_count": null,
   "metadata": {},
   "outputs": [],
   "source": [
    "from LRUandJaxLIB import *\n",
    "import jax.numpy as jnp"
   ]
  },
  {
   "cell_type": "code",
   "execution_count": 8,
   "metadata": {},
   "outputs": [
    {
     "name": "stdout",
     "output_type": "stream",
     "text": [
      "[ 1.1111112  2.2222223  3.3333335  0.         5.555556   6.666667\n",
      "  7.777778   8.888889  10.       ]\n",
      "[1.1111112 2.2222223 3.3333335 4.4444447 5.555556  6.666667  7.777778\n",
      " 8.888889  0.       ]\n",
      "[ 0.         2.2222223  3.3333335  4.4444447  5.555556   6.666667\n",
      "  0.         8.888889  10.       ]\n",
      "[ 1.1111112  0.         3.3333335  4.4444447  5.555556   6.666667\n",
      "  7.777778   8.888889  10.       ]\n",
      "[ 1.1111112  2.2222223  3.3333335  4.4444447  5.555556   6.666667\n",
      "  7.777778   8.888889  10.       ]\n",
      "[ 1.1111112  2.2222223  0.         4.4444447  5.555556   6.666667\n",
      "  7.777778   8.888889  10.       ]\n",
      "[0.        2.2222223 3.3333335 4.4444447 5.555556  6.666667  7.777778\n",
      " 8.888889  0.       ]\n",
      "[ 1.1111112  2.2222223  3.3333335  4.4444447  5.555556   6.666667\n",
      "  7.777778   8.888889  10.       ]\n",
      "[ 1.1111112  0.         3.3333335  4.4444447  5.555556   6.666667\n",
      "  7.777778   8.888889  10.       ]\n",
      "[ 1.1111112  2.2222223  3.3333335  4.4444447  5.555556   6.666667\n",
      "  7.777778   8.888889  10.       ]\n"
     ]
    }
   ],
   "source": [
    "a = jax.random.PRNGKey(5)\n",
    "\n",
    "for k in range(10):\n",
    "    print(dropout(jnp.arange(1,10), 0.1, a))\n",
    "    a, subkey = jax.random.split(a)"
   ]
  }
 ],
 "metadata": {
  "kernelspec": {
   "display_name": "usr",
   "language": "python",
   "name": "python3"
  },
  "language_info": {
   "codemirror_mode": {
    "name": "ipython",
    "version": 3
   },
   "file_extension": ".py",
   "mimetype": "text/x-python",
   "name": "python",
   "nbconvert_exporter": "python",
   "pygments_lexer": "ipython3",
   "version": "3.10.16"
  }
 },
 "nbformat": 4,
 "nbformat_minor": 2
}
