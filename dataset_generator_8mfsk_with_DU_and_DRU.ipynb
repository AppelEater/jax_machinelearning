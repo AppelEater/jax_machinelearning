{
 "cells": [
  {
   "cell_type": "markdown",
   "metadata": {},
   "source": [
    "# Create test data set\n",
    "This is the generator that will create the signal that will have doppler uncertainty, doppler rate uncertainty, CNO and arbitrary MFSK with 100 Hz spacing"
   ]
  },
  {
   "cell_type": "code",
   "execution_count": 16,
   "metadata": {},
   "outputs": [],
   "source": [
    "import jax\n",
    "import os\n",
    "import jax.numpy as jnp\n",
    "import numpy as np\n",
    "from jax import random\n",
    "import time\n",
    "import pickle\n",
    "import matplotlib.pyplot as plt"
   ]
  },
  {
   "cell_type": "code",
   "execution_count": 17,
   "metadata": {},
   "outputs": [],
   "source": [
    "# Parameters\n",
    "M = 8\n",
    "duration = 10\n",
    "signal_band = 1000\n",
    "doppler_uncertainty = int(50e3)\n",
    "doppler_rate_uncertainty = 700\n",
    "CNO = 10\n",
    "\n",
    "# Constants\n",
    "c = 3e8\n"
   ]
  },
  {
   "cell_type": "code",
   "execution_count": 18,
   "metadata": {},
   "outputs": [],
   "source": [
    "sampling_rate = 4*doppler_uncertainty\n",
    "N = duration * sampling_rate\n",
    "t = jnp.linspace(0, duration, N)\n",
    "\n",
    "freq = jnp.arange(1,M+1,1)*100\n",
    "\n",
    "rng = random.PRNGKey(0)\n",
    "\n",
    "def generate_signal(rng, symbol,freq_list, time, CNO_val):\n",
    "    \"\"\"\n",
    "    Generate a signal with a given symbol, frequency, CN0val, and time\n",
    "    \"\"\"\n",
    "\n",
    "    rng, key = random.split(rng)\n",
    "    signal = jnp.zeros_like(time)\n",
    "    \n",
    "    signal += jnp.sqrt(2)*jnp.sin(2*jnp.pi*freq_list[symbol-1]*time + symbol)\n",
    "    noise = random.normal(key, shape=(len(time),))*jnp.sqrt(CNO_val)\n",
    "    return signal + noise"
   ]
  },
  {
   "cell_type": "code",
   "execution_count": 23,
   "metadata": {},
   "outputs": [],
   "source": [
    "waveform = generate_signal(rng, 1, freq,t,sampling_rate*1/(10**(CNO/10)))"
   ]
  },
  {
   "cell_type": "code",
   "execution_count": null,
   "metadata": {},
   "outputs": [
    {
     "data": {
      "text/plain": [
       "[<matplotlib.lines.Line2D at 0x25c037b2500>]"
      ]
     },
     "execution_count": 26,
     "metadata": {},
     "output_type": "execute_result"
    }
   ],
   "source": [
    "plt.plot(np.fft.fftfreq(N, 1/sampling_rate),10*np.log10(np.abs(np.fft.fft(waveform)/N)))"
   ]
  }
 ],
 "metadata": {
  "kernelspec": {
   "display_name": "Python 3",
   "language": "python",
   "name": "python3"
  },
  "language_info": {
   "codemirror_mode": {
    "name": "ipython",
    "version": 3
   },
   "file_extension": ".py",
   "mimetype": "text/x-python",
   "name": "python",
   "nbconvert_exporter": "python",
   "pygments_lexer": "ipython3",
   "version": "3.10.11"
  }
 },
 "nbformat": 4,
 "nbformat_minor": 2
}
