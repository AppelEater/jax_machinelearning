{
 "cells": [
  {
   "cell_type": "code",
   "execution_count": 1,
   "metadata": {},
   "outputs": [],
   "source": [
    "import jax\n",
    "import os\n",
    "import jax.numpy as jnp\n",
    "import numpy as np\n",
    "from jax import random\n",
    "import time\n",
    "import pickle"
   ]
  },
  {
   "cell_type": "code",
   "execution_count": 2,
   "metadata": {},
   "outputs": [],
   "source": [
    "if os.path.isdir('datasets'):\n",
    "    pass\n",
    "else:\n",
    "    os.system('mkdir datasets')"
   ]
  },
  {
   "cell_type": "code",
   "execution_count": 3,
   "metadata": {},
   "outputs": [],
   "source": [
    "# Generate a random key\n",
    "key = random.PRNGKey(time.time_ns())\n",
    "\n",
    "# Waveform parameters\n",
    "sampling_rate = 40e3\n",
    "duration = 0.1\n",
    "\n",
    "freq1 = 5e3\n",
    "freq2 = 15e3\n",
    "\n",
    "amount_of_waveforms = 1000\n",
    "\n",
    "randomphase = random.uniform(key, (amount_of_waveforms,))\n",
    "\n",
    "# Generate a waveform\n",
    "time_points = jnp.linspace(0, duration, int(sampling_rate * duration))\n",
    "\n",
    "waveform1 = []\n",
    "waveform2 = []\n",
    "\n",
    "\n",
    "for i in range(500):\n",
    "    waveform1.append(jnp.sin(2 * jnp.pi * freq1 * time_points + randomphase[i]))\n",
    "    waveform2.append(jnp.sin(2 * jnp.pi * freq2 * time_points + randomphase[500+ i]))\n",
    "\n",
    "waveform1 = jnp.array(waveform1)\n",
    "waveform2 = jnp.array(waveform2)\n"
   ]
  },
  {
   "cell_type": "code",
   "execution_count": 4,
   "metadata": {},
   "outputs": [],
   "source": [
    "# Store the waveforms as a dictionary\n",
    "waveforms = {\n",
    "    \"waveform1\": waveform1,\n",
    "    \"waveform2\": waveform2\n",
    "}\n",
    "\n",
    "pickle.dump(waveforms, open(\"datasets/waveforms_binary_classification.pkl\", \"wb\"))"
   ]
  }
 ],
 "metadata": {
  "kernelspec": {
   "display_name": ".venv",
   "language": "python",
   "name": "python3"
  },
  "language_info": {
   "codemirror_mode": {
    "name": "ipython",
    "version": 3
   },
   "file_extension": ".py",
   "mimetype": "text/x-python",
   "name": "python",
   "nbconvert_exporter": "python",
   "pygments_lexer": "ipython3",
   "version": "3.10.0"
  }
 },
 "nbformat": 4,
 "nbformat_minor": 2
}
