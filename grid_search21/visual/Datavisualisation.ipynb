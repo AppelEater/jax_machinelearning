{
 "cells": [
  {
   "cell_type": "code",
   "execution_count": 1,
   "metadata": {},
   "outputs": [],
   "source": [
    "import glob\n",
    "import pickle as pkl\n",
    "import matplotlib.pyplot as plt\n",
    "import numpy as np\n",
    "import jax.numpy as jnp\n",
    "from LRUandJaxLIB import *\n",
    "import os\n",
    "\n",
    "gloober = [path for path in glob.glob(\"/root/Project/jax_machinelearning/grid_search21/*\") if not os.path.isdir(path)]\n"
   ]
  },
  {
   "cell_type": "code",
   "execution_count": 2,
   "metadata": {},
   "outputs": [
    {
     "name": "stdout",
     "output_type": "stream",
     "text": [
      "['/root/Project/jax_machinelearning/grid_search21/results2 time 2025-01-10 15:21:47.983213.pkl', '/root/Project/jax_machinelearning/grid_search21/results2 time 2025-01-10 16:50:42.481903.pkl', '/root/Project/jax_machinelearning/grid_search21/results0 time 2025-01-10 16:30:54.981502.pkl', '/root/Project/jax_machinelearning/grid_search21/results0 time 2025-01-10 16:01:17.165169.pkl', '/root/Project/jax_machinelearning/grid_search21/results1 time 2025-01-10 16:11:09.050017.pkl', '/root/Project/jax_machinelearning/grid_search21/results0 time 2025-01-10 15:31:37.291218.pkl', '/root/Project/jax_machinelearning/grid_search21/results1 time 2025-01-10 16:40:48.177386.pkl', '/root/Project/jax_machinelearning/grid_search21/results1 time 2025-01-10 15:11:54.776308.pkl', '/root/Project/jax_machinelearning/grid_search21/results0 time 2025-01-13 13:39:40.923187.pkl', '/root/Project/jax_machinelearning/grid_search21/results2 time 2025-01-10 16:21:01.140000.pkl', '/root/Project/jax_machinelearning/grid_search21/results0 time 2025-01-13 13:49:59.558347.pkl', '/root/Project/jax_machinelearning/grid_search21/results0 time 2025-01-13 13:23:38.558268.pkl', '/root/Project/jax_machinelearning/grid_search21/results0 time 2025-01-10 15:01:37.693500.pkl', '/root/Project/jax_machinelearning/grid_search21/results1 time 2025-01-10 15:41:29.766754.pkl', '/root/Project/jax_machinelearning/grid_search21/results2 time 2025-01-10 15:51:23.807367.pkl']\n"
     ]
    },
    {
     "name": "stderr",
     "output_type": "stream",
     "text": [
      "E0113 13:52:30.684840 1487821 cuda_blas.cc:193] failed to create cublas handle: the resource allocation failed\n",
      "E0113 13:52:30.684876 1487821 cuda_blas.cc:196] Failure to initialize cublas may be due to OOM (cublas needs some free memory when you initialize it, and your deep-learning framework may have preallocated more than its fair share), or may be because this binary was not built with support for the GPU in your machine.\n"
     ]
    },
    {
     "ename": "XlaRuntimeError",
     "evalue": "INTERNAL: Failed to initialize BLAS support",
     "output_type": "error",
     "traceback": [
      "\u001b[0;31m---------------------------------------------------------------------------\u001b[0m",
      "\u001b[0;31mXlaRuntimeError\u001b[0m                           Traceback (most recent call last)",
      "Cell \u001b[0;32mIn[2], line 26\u001b[0m\n\u001b[1;32m     23\u001b[0m Confusion_count\n\u001b[1;32m     25\u001b[0m \u001b[38;5;28;01mfor\u001b[39;00m x, y \u001b[38;5;129;01min\u001b[39;00m \u001b[38;5;28mzip\u001b[39m(train_sequences, train_labels):\n\u001b[0;32m---> 26\u001b[0m     infer \u001b[38;5;241m=\u001b[39m np\u001b[38;5;241m.\u001b[39margmax(\u001b[43mbatch_model_forward3\u001b[49m\u001b[43m(\u001b[49m\u001b[43mx\u001b[49m\u001b[43m,\u001b[49m\u001b[43m \u001b[49m\u001b[43mmodel_parameters\u001b[49m\u001b[43m,\u001b[49m\u001b[43m \u001b[49m\u001b[38;5;241;43m0\u001b[39;49m\u001b[43m,\u001b[49m\u001b[43m \u001b[49m\u001b[43mjax\u001b[49m\u001b[38;5;241;43m.\u001b[39;49m\u001b[43mrandom\u001b[49m\u001b[38;5;241;43m.\u001b[39;49m\u001b[43mkey\u001b[49m\u001b[43m(\u001b[49m\u001b[38;5;241;43m1\u001b[39;49m\u001b[43m)\u001b[49m\u001b[43m,\u001b[49m\u001b[43m \u001b[49m\u001b[38;5;28;43;01mTrue\u001b[39;49;00m\u001b[43m)\u001b[49m,axis\u001b[38;5;241m=\u001b[39m\u001b[38;5;241m1\u001b[39m)\n\u001b[1;32m     27\u001b[0m     truth \u001b[38;5;241m=\u001b[39m np\u001b[38;5;241m.\u001b[39margmax(y, axis\u001b[38;5;241m=\u001b[39m\u001b[38;5;241m1\u001b[39m)\n\u001b[1;32m     28\u001b[0m     \u001b[38;5;28;01mfor\u001b[39;00m k,z \u001b[38;5;129;01min\u001b[39;00m \u001b[38;5;28mzip\u001b[39m(truth, infer):\n",
      "    \u001b[0;31m[... skipping hidden 6 frame]\u001b[0m\n",
      "File \u001b[0;32m~/Project/jax_machinelearning/LRUandJaxLIB/LRUandJaxLIB/core3.py:30\u001b[0m, in \u001b[0;36mmodel_forward3\u001b[0;34m(input_sequence, parameters, prob, key, training)\u001b[0m\n\u001b[1;32m     22\u001b[0m \u001b[38;5;250m\u001b[39m\u001b[38;5;124;03m\"\"\"\u001b[39;00m\n\u001b[1;32m     23\u001b[0m \u001b[38;5;124;03mThe model forward function, which takes in the input sequence and the parameters and returns the output of the model.\u001b[39;00m\n\u001b[1;32m     24\u001b[0m \n\u001b[1;32m     25\u001b[0m \u001b[38;5;124;03mParameters = Linear_encoder_parameter,  LRU1, Mixer1, Linear_decoder_parameter \u001b[39;00m\n\u001b[1;32m     26\u001b[0m \u001b[38;5;124;03m\"\"\"\u001b[39;00m\n\u001b[1;32m     28\u001b[0m Linear_encoder_parameter,  LRU, Mixer1,LRU2, Mixer2, Linear_decoder_parameter \u001b[38;5;241m=\u001b[39m parameters\n\u001b[0;32m---> 30\u001b[0m x \u001b[38;5;241m=\u001b[39m \u001b[43mforward_mlp\u001b[49m\u001b[43m(\u001b[49m\u001b[43mLinear_encoder_parameter\u001b[49m\u001b[43m,\u001b[49m\u001b[43m \u001b[49m\u001b[43minput_sequence\u001b[49m\u001b[43m)\u001b[49m\n\u001b[1;32m     31\u001b[0m skip \u001b[38;5;241m=\u001b[39m x\n\u001b[1;32m     32\u001b[0m x \u001b[38;5;241m=\u001b[39m layer_normalization_sequence(x)\n",
      "    \u001b[0;31m[... skipping hidden 20 frame]\u001b[0m\n",
      "File \u001b[0;32m/usr/local/lib/python3.10/dist-packages/jax/_src/compiler.py:307\u001b[0m, in \u001b[0;36mbackend_compile\u001b[0;34m(backend, module, options, host_callbacks)\u001b[0m\n\u001b[1;32m    301\u001b[0m     \u001b[38;5;28;01mreturn\u001b[39;00m backend\u001b[38;5;241m.\u001b[39mcompile(\n\u001b[1;32m    302\u001b[0m         built_c, compile_options\u001b[38;5;241m=\u001b[39moptions, host_callbacks\u001b[38;5;241m=\u001b[39mhost_callbacks\n\u001b[1;32m    303\u001b[0m     )\n\u001b[1;32m    304\u001b[0m   \u001b[38;5;66;03m# Some backends don't have `host_callbacks` option yet\u001b[39;00m\n\u001b[1;32m    305\u001b[0m   \u001b[38;5;66;03m# TODO(sharadmv): remove this fallback when all backends allow `compile`\u001b[39;00m\n\u001b[1;32m    306\u001b[0m   \u001b[38;5;66;03m# to take in `host_callbacks`\u001b[39;00m\n\u001b[0;32m--> 307\u001b[0m   \u001b[38;5;28;01mreturn\u001b[39;00m \u001b[43mbackend\u001b[49m\u001b[38;5;241;43m.\u001b[39;49m\u001b[43mcompile\u001b[49m\u001b[43m(\u001b[49m\u001b[43mbuilt_c\u001b[49m\u001b[43m,\u001b[49m\u001b[43m \u001b[49m\u001b[43mcompile_options\u001b[49m\u001b[38;5;241;43m=\u001b[39;49m\u001b[43moptions\u001b[49m\u001b[43m)\u001b[49m\n\u001b[1;32m    308\u001b[0m \u001b[38;5;28;01mexcept\u001b[39;00m xc\u001b[38;5;241m.\u001b[39mXlaRuntimeError \u001b[38;5;28;01mas\u001b[39;00m e:\n\u001b[1;32m    309\u001b[0m   \u001b[38;5;28;01mfor\u001b[39;00m error_handler \u001b[38;5;129;01min\u001b[39;00m _XLA_RUNTIME_ERROR_HANDLERS:\n",
      "\u001b[0;31mXlaRuntimeError\u001b[0m: INTERNAL: Failed to initialize BLAS support"
     ]
    }
   ],
   "source": [
    "test_file_path = \"/root/Project/jax_machinelearning/datasets/8mfsk/absolute_doppler_waveforms_CNO_[14.2],[16.67]_and0_samprate_2000_1736520994.6523163.pkl\"\n",
    "\n",
    "print(gloober)\n",
    "\n",
    "\n",
    "\n",
    "\n",
    "for idk, glib in enumerate(gloober):\n",
    "    with open(glib, \"rb\") as f:\n",
    "        res = pkl.load(f)\n",
    "        maximum_argument = np.argmax(res[\"Accuracy Measurements\"][\"Training accuracy\"])\n",
    "        model_parameters = res[\"Model Parameters\"][maximum_argument]\n",
    "\n",
    "\n",
    "   \n",
    "    batch_size = 10\n",
    "\n",
    "    train_sequences, train_labels, _, __ = load_data(test_file_path, batch_size, 9, 0.8)\n",
    "\n",
    "    # Confusion matrix\n",
    "    Confusion_count = np.zeros([9,9])\n",
    "\n",
    "    Confusion_count\n",
    "\n",
    "    for x, y in zip(train_sequences, train_labels):\n",
    "        infer = np.argmax(batch_model_forward3(x, model_parameters, 0, jax.random.key(1), True),axis=1)\n",
    "        truth = np.argmax(y, axis=1)\n",
    "        for k,z in zip(truth, infer):\n",
    "            Confusion_count[k,z] += 1\n",
    "\n",
    "    for x, y in zip(_, __):\n",
    "        infer = np.argmax(batch_model_forward3(x, model_parameters, 0, jax.random.key(1), True),axis=1)\n",
    "        truth = np.argmax(y, axis=1)\n",
    "        for k,z in zip(truth, infer):\n",
    "            Confusion_count[k,z] += 1\n",
    "\n",
    "    Confusion_matrix = np.zeros([9,9])\n",
    "    for idx, con in enumerate(Confusion_count):\n",
    "        sum = np.sum(con)\n",
    "        Confusion_matrix[idx] = con/sum\n",
    "\n",
    "\n",
    "    fig, ax = plt.subplots(figsize = (3,3))\n",
    "\n",
    "    im = ax.imshow(Confusion_matrix, interpolation='nearest', cmap=plt.cm.Blues)\n",
    "    ax.figure.colorbar(im, ax=ax)\n",
    "\n",
    "    ax.set(xticks=np.arange(Confusion_matrix.shape[0]),\n",
    "        yticks=np.arange(Confusion_matrix.shape[1]),\n",
    "        xlabel = 'Predicted Label',\n",
    "            ylabel = 'True Label',\n",
    "            title = 'Confusion Matrix' )\n",
    "\n",
    "    ax.set_title(f'{res[\"Learning Schedule\"][\"Value\"]}')\n",
    "    fig.text(0.50, 0.02,f'{res[\"Accuracy Measurements\"][\"Testing accuracy\"][maximum_argument]}', \n",
    "    horizontalalignment='center', wrap=True ) \n",
    "    plt.tight_layout()\n",
    "    plt.savefig(f\"/root/Project/jax_machinelearning/grid_search21/visual/confusion{idk}.pdf\")\n",
    "    #plt.show()\n",
    "\n",
    "    np.trace(Confusion_matrix)/np.sum(Confusion_matrix)"
   ]
  },
  {
   "cell_type": "code",
   "execution_count": null,
   "metadata": {},
   "outputs": [],
   "source": []
  }
 ],
 "metadata": {
  "kernelspec": {
   "display_name": "usr",
   "language": "python",
   "name": "python3"
  },
  "language_info": {
   "codemirror_mode": {
    "name": "ipython",
    "version": 3
   },
   "file_extension": ".py",
   "mimetype": "text/x-python",
   "name": "python",
   "nbconvert_exporter": "python",
   "pygments_lexer": "ipython3",
   "version": "3.10.16"
  }
 },
 "nbformat": 4,
 "nbformat_minor": 2
}
