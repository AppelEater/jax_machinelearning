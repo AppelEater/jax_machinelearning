{
 "cells": [
  {
   "cell_type": "code",
   "execution_count": 5,
   "metadata": {},
   "outputs": [],
   "source": [
    "import jax\n",
    "import os\n",
    "import jax.numpy as jnp\n",
    "import numpy as np\n",
    "from jax import random\n",
    "import time\n",
    "import pickle\n",
    "import matplotlib.pyplot as plt"
   ]
  },
  {
   "cell_type": "code",
   "execution_count": 6,
   "metadata": {},
   "outputs": [],
   "source": [
    "if os.path.isdir('datasets/8fmsk'):\n",
    "    pass\n",
    "else:\n",
    "    os.system('mkdir datasets/8fmsk')"
   ]
  },
  {
   "cell_type": "markdown",
   "metadata": {},
   "source": [
    "### Dataset generation\n",
    "Sampling rate 20 kHz\n",
    "\n",
    "\n",
    "8 equally distant MFSK symbols, one noise signal\n",
    "\n",
    "Freqeuencies offset according to uniform distribution, with 1 \\% to their central distribution\n",
    "\n",
    "Power has gone through ideal AGC so strength of received signal is equal to one.\n",
    "\n",
    "Noise will be at SNR 15 dB\n",
    "\n",
    "Number of waveforms per frequnecy = 1000\n"
   ]
  },
  {
   "cell_type": "code",
   "execution_count": null,
   "metadata": {},
   "outputs": [],
   "source": [
    "sampling_rate = 20e3\n",
    "frequnecies = jnp.arange(0, 10e3, 1250)\n",
    "relative_frequency_offset = 0.01\n",
    "frequency_offset = relative_frequency_offset * frequnecies\n",
    "samples = int(sampling_rate)\n",
    "SNR = 15\n",
    "num_waveforms = 1000\n",
    "\n",
    "t = jnp.linspace(0, 1, samples)\n",
    "\n",
    "waveforms = []\n",
    "\n",
    "key = random.PRNGKey(time.time_ns())\n",
    "\n",
    "\n",
    "\n",
    "for idx, freq in enumerate(frequnecies):\n",
    "    for i in range(num_waveforms):\n",
    "        key, subkey = random.split(key)\n",
    "        phase = random.uniform(key, shape=(1,), minval=0, maxval=2*jnp.pi)\n",
    "        waveforms.append((jnp.sqrt(2)*jnp.sin(2*jnp.pi*(freq+random.uniform(subkey, 1, minval=-frequency_offset[idx]/2,maxval=frequency_offset[idx]/2))*t + phase), idx))\n",
    "for i in range(num_waveforms):\n",
    "    waveforms.append((jnp.zeros(samples), 8))\n",
    "\n",
    "# Add noise\n",
    "\n",
    "waveforms_with_noise = []  \n",
    "\n",
    "for waveform in waveforms:\n",
    "    key, subkey = random.split(key)\n",
    "    waveforms_with_noise.append((waveform[0] + jax.random.normal(subkey, shape=(samples))*jnp.sqrt(1/10**(SNR/10)), waveform[1]))\n",
    "\n",
    "# Normalize waveforms to power 1\n",
    "waveforms_with_noise = [(waveform[0]/jnp.sqrt(jnp.mean(waveform[0]**2)), waveform[1]) for waveform in waveforms_with_noise]\n",
    "\n",
    "# Save waveforms\n",
    "with open('datasets/8fmsk/waveforms_uniform.pkl', 'wb') as f:\n",
    "    pickle.dump(waveforms_with_noise, f)"
   ]
  },
  {
   "cell_type": "code",
   "execution_count": null,
   "metadata": {},
   "outputs": [
    {
     "name": "stdout",
     "output_type": "stream",
     "text": [
      "<class 'jaxlib.xla_extension.ArrayImpl'>\n",
      "1.0\n"
     ]
    },
    {
     "data": {
      "text/plain": [
       "[<matplotlib.lines.Line2D at 0x25d38aa1810>]"
      ]
     },
     "execution_count": 48,
     "metadata": {},
     "output_type": "execute_result"
    },
    {
     "data": {
      "image/png": "[encoded data removed]",
      "text/plain": [
       "<Figure size 640x480 with 1 Axes>"
      ]
     },
     "metadata": {},
     "output_type": "display_data"
    }
   ],
   "source": [
    "\n",
    "# Calculate mean power of all waveforms\n",
    "print(type(waveforms_with_noise[1001][0]))\n",
    "print(jnp.mean(waveforms_with_noise[0][0]**2))\n",
    "mean_power = [jnp.mean(x[0]**2) for x in waveforms_with_noise]\n",
    "plt.plot(mean_power)"
   ]
  },
  {
   "cell_type": "code",
   "execution_count": null,
   "metadata": {},
   "outputs": [],
   "source": [
    "# Verify 100 random waveforms from the dataset by doing fft plot\n",
    "\n",
    "for i in range(100):\n",
    "    k = np.random.choice(len(waveforms_with_noise))\n",
    "    plt.figure()\n",
    "    plt.plot(jnp.log10(jnp.abs(jnp.fft.fft(waveforms_with_noise[k][0]))[:10000]**2/20000))\n",
    "    plt.title(f'Frequency: {waveforms_with_noise[k][1]}')\n",
    "    plt.show()\n",
    "    plt.close()"
   ]
  },
  {
   "cell_type": "code",
   "execution_count": 29,
   "metadata": {},
   "outputs": [
    {
     "data": {
      "text/plain": [
       "Array([2.5225687, 2.6138585, 1.9415885, ..., 3.502716 , 5.195881 ,\n",
       "       2.5122623], dtype=float32)"
      ]
     },
     "execution_count": 29,
     "metadata": {},
     "output_type": "execute_result"
    }
   ],
   "source": [
    "waveforms_with_noise[0][0]"
   ]
  }
 ],
 "metadata": {
  "kernelspec": {
   "display_name": ".venv",
   "language": "python",
   "name": "python3"
  },
  "language_info": {
   "codemirror_mode": {
    "name": "ipython",
    "version": 3
   },
   "file_extension": ".py",
   "mimetype": "text/x-python",
   "name": "python",
   "nbconvert_exporter": "python",
   "pygments_lexer": "ipython3",
   "version": "3.10.0"
  }
 },
 "nbformat": 4,
 "nbformat_minor": 2
}
