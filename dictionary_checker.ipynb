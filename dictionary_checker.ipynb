{
 "cells": [
  {
   "cell_type": "code",
   "execution_count": 2,
   "metadata": {},
   "outputs": [
    {
     "name": "stdout",
     "output_type": "stream",
     "text": [
      "0.001\n",
      "0.00021544355\n",
      "0.0005011873\n",
      "{'Schedule Type': 'Piecewise Constant', 'Bounds': [7200, 9600, 12000], 'Values': [0.0002, 0.00015, 0.0001, 5e-05]}\n"
     ]
    }
   ],
   "source": [
    "import pickle as pkl\n",
    "import glob\n",
    "import matplotlib.pyplot as plt\n",
    "import numpy as np\n",
    "\n",
    "gloober_big = []\n",
    "for i in range(4,8):\n",
    "    #print(i)\n",
    "    gloober_big.append(glob.glob(f\"grid_search{i}/*\"))\n",
    "\n",
    "\n",
    "\n",
    "best_acc_yet_super = []\n",
    "\n",
    "learning_rates = []\n",
    "\n",
    "for idk, gloober in enumerate(gloober_big):\n",
    "    best_acc_yet = [0,0]\n",
    "    for idx, glib in enumerate(gloober):\n",
    "        with open(glib, \"rb\") as f:\n",
    "            results = pkl.load(f)\n",
    "            #print(len(results[\"Model Parameters\"][0][1][0]))\n",
    "            try:\n",
    "                learning_rates.append(results[\"Learning Schedule\"])\n",
    "            except:\n",
    "                 learning_rates.append(results[\"Learning Rate\"])\n",
    "\n",
    "            if np.max(results[\"Accuracy Measurements\"][\"Testing accuracy\"]) > best_acc_yet[0]:\n",
    "                    best_acc_yet[0] = np.max(results[\"Accuracy Measurements\"][\"Testing accuracy\"])\n",
    "                    best_acc_yet[1] = glib\n",
    "    best_acc_yet_super.append(best_acc_yet)\n",
    "\n",
    "for _, glib in best_acc_yet_super:\n",
    "     with open(glib, \"rb\") as f:\n",
    "        res = pkl.load(f)\n",
    "        try:\n",
    "            print(res[\"Learning Schedule\"])\n",
    "        except:\n",
    "            print(res[\"Learning Rate\"])\n",
    "\n",
    "# with open(glib, \"rb\") as f:\n",
    "#     res = pkl.load(f)\n",
    "#     #print(res[\"Learning Schedule\"])\n",
    "\n",
    "    \n",
    "#     plt.plot(res[\"Accuracy Measurements\"][\"Training accuracy\"], label = \"Train\")\n",
    "#     plt.plot(res[\"Accuracy Measurements\"][\"Testing accuracy\"], label= \"Test\")\n",
    "\n",
    "#print(learning_rates)\n",
    "\n",
    "#plt.show()\n",
    "#plt.savefig(\"\")"
   ]
  },
  {
   "cell_type": "code",
   "execution_count": 5,
   "metadata": {},
   "outputs": [
    {
     "name": "stdout",
     "output_type": "stream",
     "text": [
      "256\n"
     ]
    }
   ],
   "source": [
    "with open(\"/root/Project/jax_machinelearning/grid_search12/results0 time 2025-01-01 22:58:11.940684.pkl\", \"rb\") as f:\n",
    "    dataset = pkl.load(f)\n",
    "    print(len(dataset[\"Model Parameters\"][0][1][1]))"
   ]
  }
 ],
 "metadata": {
  "kernelspec": {
   "display_name": "usr",
   "language": "python",
   "name": "python3"
  },
  "language_info": {
   "codemirror_mode": {
    "name": "ipython",
    "version": 3
   },
   "file_extension": ".py",
   "mimetype": "text/x-python",
   "name": "python",
   "nbconvert_exporter": "python",
   "pygments_lexer": "ipython3",
   "version": "3.10.16"
  }
 },
 "nbformat": 4,
 "nbformat_minor": 2
}
