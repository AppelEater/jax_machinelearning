{
 "cells": [
  {
   "cell_type": "code",
   "execution_count": 2,
   "metadata": {},
   "outputs": [],
   "source": [
    "import pickle as pkl\n",
    "import glob\n",
    "import matplotlib.pyplot as plt\n",
    "import numpy as np"
   ]
  },
  {
   "cell_type": "code",
   "execution_count": null,
   "metadata": {},
   "outputs": [
    {
     "name": "stdout",
     "output_type": "stream",
     "text": [
      "{'Schedule Type': 'Constant', 'Value': 0.0002}\n",
      "[np.float32(0.6183333), 'grid_search17/results0 time 2025-01-08 16:38:57.603117.pkl']\n"
     ]
    },
    {
     "ename": "",
     "evalue": "",
     "output_type": "error",
     "traceback": [
      "\u001b[1;31mThe Kernel crashed while executing code in the current cell or a previous cell. \n",
      "\u001b[1;31mPlease review the code in the cell(s) to identify a possible cause of the failure. \n",
      "\u001b[1;31mClick <a href='https://aka.ms/vscodeJupyterKernelCrash'>here</a> for more info. \n",
      "\u001b[1;31mView Jupyter <a href='command:jupyter.viewOutput'>log</a> for further details."
     ]
    }
   ],
   "source": [
    "\n",
    "\n",
    "gloober_big = []\n",
    "for i in range(1):\n",
    "    #print(i)\n",
    "    gloober_big.append(glob.glob(f\"grid_search17/*\"))\n",
    "\n",
    "\n",
    "\n",
    "best_acc_yet_super = []\n",
    "\n",
    "learning_rates = []\n",
    "\n",
    "for idk, gloober in enumerate(gloober_big):\n",
    "    best_acc_yet = [0,0]\n",
    "    for idx, glib in enumerate(gloober):\n",
    "        with open(glib, \"rb\") as f:\n",
    "            results = pkl.load(f)\n",
    "            #print(len(results[\"Model Parameters\"][0][1][0]))\n",
    "            try:\n",
    "                learning_rates.append(results[\"Learning Schedule\"])\n",
    "            except:\n",
    "                 learning_rates.append(results[\"Learning Rate\"])\n",
    "            len(results[\"Model Parameters\"][0][1][1])\n",
    "            if np.max(results[\"Accuracy Measurements\"][\"Testing accuracy\"]) > best_acc_yet[0]:\n",
    "                    best_acc_yet[0] = np.max(results[\"Accuracy Measurements\"][\"Testing accuracy\"])\n",
    "                    best_acc_yet[1] = glib\n",
    "    best_acc_yet_super.append(best_acc_yet)\n",
    "\n",
    "for _, glib in best_acc_yet_super:\n",
    "     with open(glib, \"rb\") as f:\n",
    "        res = pkl.load(f)\n",
    "        try:\n",
    "            print(res[\"Learning Schedule\"])\n",
    "        except:\n",
    "            print(res[\"Learning Rate\"])\n",
    "\n",
    "print(best_acc_yet)\n",
    "# with open(glib, \"rb\") as f:\n",
    "#     res = pkl.load(f)\n",
    "#     #print(res[\"Learning Schedule\"])\n",
    "\n",
    "    \n",
    "#     plt.plot(res[\"Accuracy Measurements\"][\"Training accuracy\"], label = \"Train\")\n",
    "#     plt.plot(res[\"Accuracy Measurements\"][\"Testing accuracy\"], label= \"Test\")\n",
    "\n",
    "#print(learning_rates)\n",
    "\n",
    "#plt.show()\n",
    "#plt.savefig(\"\")"
   ]
  },
  {
   "cell_type": "code",
   "execution_count": null,
   "metadata": {},
   "outputs": [
    {
     "name": "stdout",
     "output_type": "stream",
     "text": [
      "Adam\n"
     ]
    },
    {
     "ename": "",
     "evalue": "",
     "output_type": "error",
     "traceback": [
      "\u001b[1;31mThe Kernel crashed while executing code in the current cell or a previous cell. \n",
      "\u001b[1;31mPlease review the code in the cell(s) to identify a possible cause of the failure. \n",
      "\u001b[1;31mClick <a href='https://aka.ms/vscodeJupyterKernelCrash'>here</a> for more info. \n",
      "\u001b[1;31mView Jupyter <a href='command:jupyter.viewOutput'>log</a> for further details."
     ]
    }
   ],
   "source": [
    "with open(\"/root/Project/jax_machinelearning/grid_search15/results0 time 2025-01-08 15:37:42.410496.pkl\", \"rb\") as f:\n",
    "    dataset = pkl.load(f)\n",
    "    print(dataset[\"optimizer\"])"
   ]
  },
  {
   "cell_type": "code",
   "execution_count": null,
   "metadata": {},
   "outputs": [],
   "source": []
  },
  {
   "cell_type": "code",
   "execution_count": 4,
   "metadata": {},
   "outputs": [
    {
     "name": "stdout",
     "output_type": "stream",
     "text": [
      "MFSK signal, with DU [0 0.01 ] and DRU [16.66]. CN0 varies between [15, 20] dbHz\n"
     ]
    }
   ],
   "source": [
    "with open(\"/root/Project/jax_machinelearning/grid_search9/results0 time 2024-12-17 17:47:44.658741.pkl\", \"rb\") as f:\n",
    "    res = pkl.load(f)\n",
    "\n",
    "    print(res[\"training dataset circumstanct\"])"
   ]
  },
  {
   "cell_type": "code",
   "execution_count": 6,
   "metadata": {},
   "outputs": [
    {
     "data": {
      "text/plain": [
       "[np.float32(0.5947222),\n",
       " 'grid_search9/results0 time 2024-12-18 00:08:18.044060.pkl']"
      ]
     },
     "execution_count": 6,
     "metadata": {},
     "output_type": "execute_result"
    }
   ],
   "source": [
    "best_acc_yet"
   ]
  }
 ],
 "metadata": {
  "kernelspec": {
   "display_name": "usr",
   "language": "python",
   "name": "python3"
  },
  "language_info": {
   "codemirror_mode": {
    "name": "ipython",
    "version": 3
   },
   "file_extension": ".py",
   "mimetype": "text/x-python",
   "name": "python",
   "nbconvert_exporter": "python",
   "pygments_lexer": "ipython3",
   "version": "3.10.16"
  }
 },
 "nbformat": 4,
 "nbformat_minor": 2
}
