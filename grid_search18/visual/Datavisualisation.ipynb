{
 "cells": [
  {
   "cell_type": "code",
   "execution_count": null,
   "metadata": {},
   "outputs": [],
   "source": [
    "import glob\n",
    "import pickle as pkl\n",
    "import matplotlib.pyplot as plt\n",
    "import numpy as np\n",
    "import jax.numpy as jnp\n",
    "from LRUandJaxLIB import *\n",
    "\n",
    "#gloober = glob.glob(\"grid_search18/*\")"
   ]
  },
  {
   "cell_type": "code",
   "execution_count": null,
   "metadata": {},
   "outputs": [],
   "source": [
    "with open(\"/root/Project/jax_machinelearning/grid_search18/results0 time 2025-01-09 09:33:07.033768.pkl\", \"rb\") as f:\n",
    "    model_parameters = pkl.load(f)[\"Model Parameters\"][-1]\n",
    "\n",
    "\n",
    "test_file_path = \"/root/Project/jax_machinelearning/datasets/8mfsk/absolute_doppler_waveforms_CNO_[14.2],[0]_and0_samprate_2000.pkl\"\n",
    "\n",
    "batch_size = 10\n",
    "\n",
    "train_sequences, train_labels, _, __ = load_data(test_file_path, batch_size, 9, 1)\n",
    "\n",
    "# Confusion matrix\n",
    "Confusion_count = np.zeros([9,9])\n",
    "\n",
    "Confusion_count\n",
    "\n",
    "for x, y in zip(train_sequences, train_labels):\n",
    "    infer = np.argmax(batch_model_forward3(x, model_parameters, 0, jax.random.key(1), True),axis=1)\n",
    "    truth = np.argmax(y, axis=1)\n",
    "    for k,z in zip(truth, infer):\n",
    "        Confusion_count[k,z] += 1\n",
    "\n",
    "for x, y in zip(_, __):\n",
    "    infer = np.argmax(batch_model_forward3(x, model_parameters, 0, jax.random.key(1), True),axis=1)\n",
    "    truth = np.argmax(y, axis=1)\n",
    "    for k,z in zip(truth, infer):\n",
    "        Confusion_count[k,z] += 1\n",
    "\n",
    "Confusion_matrix = np.zeros([9,9])\n",
    "for idx, con in enumerate(Confusion_count):\n",
    "    sum = np.sum(con)\n",
    "    Confusion_matrix[idx] = con/sum\n",
    "\n",
    "\n",
    "fig, ax = plt.subplots(figsize = (3,3))\n",
    "\n",
    "im = ax.imshow(Confusion_matrix, interpolation='nearest', cmap=plt.cm.Blues)\n",
    "ax.figure.colorbar(im, ax=ax)\n",
    "\n",
    "ax.set(xticks=np.arange(Confusion_matrix.shape[0]),\n",
    "       yticks=np.arange(Confusion_matrix.shape[1]),\n",
    "       xlabel = 'Predicted Label',\n",
    "        ylabel = 'True Label',\n",
    "         title = 'Confusion Matrix' )\n",
    "\n",
    "plt.tight_layout()\n",
    "plt.savefig(\"Confusion_Matrix_Fixed_Power.pdf\")\n",
    "#plt.show()\n",
    "\n",
    "np.trace(Confusion_matrix)/np.sum(Confusion_matrix)"
   ]
  },
  {
   "cell_type": "code",
   "execution_count": null,
   "metadata": {},
   "outputs": [],
   "source": []
  }
 ],
 "metadata": {
  "language_info": {
   "name": "python"
  }
 },
 "nbformat": 4,
 "nbformat_minor": 2
}
