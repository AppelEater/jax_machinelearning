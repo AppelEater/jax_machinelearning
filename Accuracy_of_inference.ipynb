{
 "cells": [
  {
   "cell_type": "code",
   "execution_count": 2,
   "metadata": {},
   "outputs": [],
   "source": [
    "import LRUandJaxLIB\n",
    "import pickle\n",
    "import glob\n",
    "import numpy as np\n",
    "import jax.numpy as jnp\n",
    "import more_itertools as mit\n",
    "import matplotlib.pyplot as plt"
   ]
  },
  {
   "cell_type": "code",
   "execution_count": 3,
   "metadata": {},
   "outputs": [],
   "source": [
    "# Load model from grid search\n",
    "filepath = \"grid_search17/*\"\n",
    "\n",
    "gloober = glob.glob(filepath)\n",
    "\n",
    "hyper_and_model_parameters = {}\n",
    "\n",
    "prev_best = [0,0]\n",
    "# Find the model with the highest accuracy\n",
    "for idx, glib in enumerate(gloober):\n",
    "    with open(glib, \"rb\") as f:\n",
    "        hyper_and_model_parameters = pickle.load(f)\n",
    "        if np.max(hyper_and_model_parameters[\"Accuracy Measurements\"][\"Testing accuracy\"]) > prev_best[0]:\n",
    "            prev_best[0] = np.max(hyper_and_model_parameters[\"Accuracy Measurements\"][\"Testing accuracy\"])\n",
    "            prev_best[1] = idx\n",
    "\n",
    "with open(gloober[prev_best[1]], \"rb\") as f:\n",
    "    hyper_and_model_parameters = pickle.load(f)\n",
    "\n",
    "max_epoch = np.argmax(hyper_and_model_parameters[\"Accuracy Measurements\"][\"Testing accuracy\"])\n",
    "\n",
    "model_parameters = hyper_and_model_parameters[\"Model Parameters\"][max_epoch]"
   ]
  },
  {
   "cell_type": "code",
   "execution_count": 7,
   "metadata": {},
   "outputs": [
    {
     "data": {
      "text/plain": [
       "6000"
      ]
     },
     "execution_count": 7,
     "metadata": {},
     "output_type": "execute_result"
    }
   ],
   "source": [
    "# Load the accuracy test set\n",
    "filepath_dataset = \"/root/Project/jax_machinelearning/datasets/8mfsk/accu_test_waveforms_CNO_[15, 20, 25, 30, 35],[5]_and[0, 0.01, 0.02, 0.03, 0.04, 0.05].pkl\"\n",
    "\n",
    "with open(filepath_dataset, \"rb\") as f:\n",
    "    waveforms = pickle.load(f)\n",
    "\n",
    "len(waveforms[0][0][0][0])"
   ]
  },
  {
   "cell_type": "code",
   "execution_count": 30,
   "metadata": {},
   "outputs": [],
   "source": [
    "\n",
    "def batched_zip(*iterables, batch_size):\n",
    "    # Create batches for each iterable\n",
    "    batches = [mit.batched(iterable, batch_size) for iterable in iterables]\n",
    "    # Zip the batches together\n",
    "    for batch_group in zip(*batches):\n",
    "        yield tuple(zip(*batch_group))  # Zip within each batch"
   ]
  },
  {
   "cell_type": "code",
   "execution_count": 31,
   "metadata": {},
   "outputs": [],
   "source": [
    "# Perform the accuracy measurements\n",
    "CNO_list =  [15, 20, 25, 30, 35]\n",
    "freq_offset_percent_list = [0,0.01, 0.02, 0.03, 0.04, 0.05]\n",
    "acc_results = []\n",
    "\n",
    "\n",
    "for idx, CNO in enumerate(CNO_list):\n",
    "    for idk, freq_offset_percent in enumerate(freq_offset_percent_list):\n",
    "        input = jnp.array([wave[0] for wave in waveforms[idx][idk]]).reshape(len(waveforms[0][0])//10,10,len(waveforms[0][0][0][0]), 1)\n",
    "        target = LRUandJaxLIB.one_hot(jnp.array([wave[1] for wave in waveforms[idx][idk]]).reshape(900,1), 9).reshape(900//10,10,9)\n",
    "        acc_results.append(np.mean([LRUandJaxLIB.accuracy(jnp.array(x), jnp.array(y), model_parameters) for x, y in zip(input, target)]))\n",
    "\n"
   ]
  },
  {
   "cell_type": "code",
   "execution_count": 32,
   "metadata": {},
   "outputs": [
    {
     "data": {
      "text/plain": [
       "<matplotlib.colorbar.Colorbar at 0x74937a75ffa0>"
      ]
     },
     "execution_count": 32,
     "metadata": {},
     "output_type": "execute_result"
    },
    {
     "data": {
      "image/png": "[encoded data removed]",
      "text/plain": [
       "<Figure size 640x480 with 2 Axes>"
      ]
     },
     "metadata": {},
     "output_type": "display_data"
    }
   ],
   "source": [
    "plt.imshow(jnp.array(acc_results).reshape(len(CNO_list), len(freq_offset_percent_list)))\n",
    "plt.ylabel(\"CNO dbHz\")\n",
    "plt.xlabel(\"Freq off set percent\")\n",
    "plt.yticks(np.arange(0,5), CNO_list)\n",
    "plt.xticks(np.arange(0,6), freq_offset_percent_list)\n",
    "plt.colorbar()"
   ]
  },
  {
   "cell_type": "code",
   "execution_count": null,
   "metadata": {},
   "outputs": [
    {
     "ename": "NameError",
     "evalue": "name 'acc_results' is not defined",
     "output_type": "error",
     "traceback": [
      "\u001b[0;31m---------------------------------------------------------------------------\u001b[0m",
      "\u001b[0;31mNameError\u001b[0m                                 Traceback (most recent call last)",
      "Cell \u001b[0;32mIn[8], line 1\u001b[0m\n\u001b[0;32m----> 1\u001b[0m np\u001b[38;5;241m.\u001b[39mmin(\u001b[43macc_results\u001b[49m)\n",
      "\u001b[0;31mNameError\u001b[0m: name 'acc_results' is not defined"
     ]
    }
   ],
   "source": [
    "np.max(acc_results)"
   ]
  }
 ],
 "metadata": {
  "kernelspec": {
   "display_name": "usr",
   "language": "python",
   "name": "python3"
  },
  "language_info": {
   "codemirror_mode": {
    "name": "ipython",
    "version": 3
   },
   "file_extension": ".py",
   "mimetype": "text/x-python",
   "name": "python",
   "nbconvert_exporter": "python",
   "pygments_lexer": "ipython3",
   "version": "3.10.16"
  }
 },
 "nbformat": 4,
 "nbformat_minor": 2
}
