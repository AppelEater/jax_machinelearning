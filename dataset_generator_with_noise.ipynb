{
 "cells": [
  {
   "cell_type": "code",
   "execution_count": 2,
   "metadata": {},
   "outputs": [],
   "source": [
    "import jax\n",
    "import os\n",
    "import jax.numpy as jnp\n",
    "import numpy as np\n",
    "from jax import random\n",
    "import time\n",
    "import pickle\n"
   ]
  },
  {
   "cell_type": "code",
   "execution_count": 3,
   "metadata": {},
   "outputs": [],
   "source": [
    "if os.path.isdir('datasets'):\n",
    "    pass\n",
    "else:\n",
    "    os.system('mkdir datasets')"
   ]
  },
  {
   "cell_type": "code",
   "execution_count": 5,
   "metadata": {},
   "outputs": [
    {
     "name": "stdout",
     "output_type": "stream",
     "text": [
      "Generating dataset for freq = 100 Hz and SNR = 0 dB\n",
      "Generating dataset for freq = 100 Hz and SNR = 5 dB\n",
      "Generating dataset for freq = 100 Hz and SNR = 10 dB\n",
      "Generating dataset for freq = 100 Hz and SNR = 15 dB\n",
      "Generating dataset for freq = 200 Hz and SNR = 0 dB\n",
      "Generating dataset for freq = 200 Hz and SNR = 5 dB\n",
      "Generating dataset for freq = 200 Hz and SNR = 10 dB\n",
      "Generating dataset for freq = 200 Hz and SNR = 15 dB\n",
      "Generating dataset for freq = 300 Hz and SNR = 0 dB\n",
      "Generating dataset for freq = 300 Hz and SNR = 5 dB\n",
      "Generating dataset for freq = 300 Hz and SNR = 10 dB\n",
      "Generating dataset for freq = 300 Hz and SNR = 15 dB\n",
      "Generating dataset for freq = 400 Hz and SNR = 0 dB\n",
      "Generating dataset for freq = 400 Hz and SNR = 5 dB\n",
      "Generating dataset for freq = 400 Hz and SNR = 10 dB\n",
      "Generating dataset for freq = 400 Hz and SNR = 15 dB\n",
      "Generating dataset for freq = 500 Hz and SNR = 0 dB\n",
      "Generating dataset for freq = 500 Hz and SNR = 5 dB\n",
      "Generating dataset for freq = 500 Hz and SNR = 10 dB\n",
      "Generating dataset for freq = 500 Hz and SNR = 15 dB\n",
      "Dataset for freq = 500 Hz and SNR = 15 dB saved\n"
     ]
    }
   ],
   "source": [
    "# Make a key\n",
    "key = random.PRNGKey(time.time_ns())\n",
    "\n",
    "\n",
    "# Parameters of dataset, stationary signal\n",
    "number_of_waveforms_per_freq_and_SNR = 1000\n",
    "sampling_frequency = 20e3\n",
    "time_duration = 1\n",
    "\n",
    "# SNR\n",
    "SNR = np.arange(0,20, 5)\n",
    "\n",
    "# Parametsr of the signals\n",
    "frequencies = np.array([100, 200, 300, 400, 500])\n",
    "\n",
    "\n",
    "\n",
    "# Generate the dataset\n",
    "dataset = []\n",
    "for freq in frequencies:\n",
    "    for snr in SNR:\n",
    "        print(f'Generating dataset for freq = {freq} Hz and SNR = {snr} dB')\n",
    "        for i in range(number_of_waveforms_per_freq_and_SNR):\n",
    "            # Generate the signal\n",
    "            t = jnp.linspace(0, time_duration, int(sampling_frequency*time_duration))\n",
    "            signal = jnp.sin(2*jnp.pi*freq*t)\n",
    "            # Add noise\n",
    "            noise = random.normal(key, signal.shape)\n",
    "            noise = noise/jnp.linalg.norm(noise)*jnp.linalg.norm(signal)/jnp.sqrt(10**(snr/10))\n",
    "            noisy_signal = signal + noise\n",
    "            dataset.append((noisy_signal, freq, snr))\n",
    "        # Save the dataset\n",
    "with open(f'datasets/datasets_5_tones_with_noise.pkl', 'wb') as f:\n",
    "    pickle.dump(dataset, f)\n",
    "print(f'Dataset for freq = {freq} Hz and SNR = {snr} dB saved')"
   ]
  }
 ],
 "metadata": {
  "kernelspec": {
   "display_name": ".venv",
   "language": "python",
   "name": "python3"
  },
  "language_info": {
   "codemirror_mode": {
    "name": "ipython",
    "version": 3
   },
   "file_extension": ".py",
   "mimetype": "text/x-python",
   "name": "python",
   "nbconvert_exporter": "python",
   "pygments_lexer": "ipython3",
   "version": "3.10.0"
  }
 },
 "nbformat": 4,
 "nbformat_minor": 2
}
